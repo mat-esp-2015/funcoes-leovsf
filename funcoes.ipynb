{
 "cells": [
  {
   "cell_type": "markdown",
   "metadata": {},
   "source": [
    "# Funções e programação defensiva"
   ]
  },
  {
   "cell_type": "markdown",
   "metadata": {},
   "source": [
    "## License\n",
    "\n",
    "All content can be freely used and adapted under the terms of the \n",
    "[Creative Commons Attribution 4.0 International License](http://creativecommons.org/licenses/by/4.0/).\n",
    "\n",
    "![Creative Commons License](https://i.creativecommons.org/l/by/4.0/88x31.png)"
   ]
  },
  {
   "cell_type": "markdown",
   "metadata": {},
   "source": [
    "## Imports\n",
    "\n",
    "Coloque **todos** os `import` na célula abaixo. Não se esqueça do `%matplotlib inline` para que os gráficos apareçam no notebook."
   ]
  },
  {
   "cell_type": "code",
   "execution_count": 131,
   "metadata": {
    "collapsed": false
   },
   "outputs": [
    {
     "name": "stdout",
     "output_type": "stream",
     "text": [
      "Using matplotlib backend: Qt4Agg\n"
     ]
    }
   ],
   "source": [
    "import numpy as np  # Biblioteca para cálculo numérico do Python\n",
    "%matplotlib\n",
    "%matplotlib inline"
   ]
  },
  {
   "cell_type": "markdown",
   "metadata": {},
   "source": [
    "## Funções\n",
    "\n",
    "### Tarefa - Criando uma função \n",
    "\n",
    "Crie duas funções:\n",
    "\n",
    "* `celsius_para_kelvin` que recebe a temperatura em Celsius como argumento e retorna a temperatura convertida para Kelvin\n",
    "* `kelvin_para_fahr` que recebe uma temperatura em Kelvin e a converte para Fahrenheit\n",
    "\n",
    "Lembrando que:\n",
    "\n",
    "* Kelvin = Celsius + 273.15\n",
    "* Fahrenheit = (Kelvin - 273.15)*1.8 + 32"
   ]
  },
  {
   "cell_type": "code",
   "execution_count": 132,
   "metadata": {
    "collapsed": true
   },
   "outputs": [],
   "source": [
    "def celsius_para_kelvin(celsius): #função que define a conversao de celcius para kelvin\n",
    "    kelvin = celsius + 273.15 #calculo\n",
    "    return kelvin #return para dar o resultado da função"
   ]
  },
  {
   "cell_type": "code",
   "execution_count": 133,
   "metadata": {
    "collapsed": true
   },
   "outputs": [],
   "source": [
    "def kelvin_para_fahr(kelvin): #função que define a conversao de kelvin para fahrenheit\n",
    "    fahr = (kelvin - 273.15)*1.8 + 32 #calculo\n",
    "    return fahr #return para dar o resultado da funçaõ"
   ]
  },
  {
   "cell_type": "markdown",
   "metadata": {},
   "source": [
    "As células abaixo executam a sua função e comparam com os resultados esperados. Use-as para verificar se a sua função está funcionando (todas as células devem imprimir `True`)."
   ]
  },
  {
   "cell_type": "code",
   "execution_count": 134,
   "metadata": {
    "collapsed": false
   },
   "outputs": [
    {
     "data": {
      "text/plain": [
       "True"
      ]
     },
     "execution_count": 134,
     "metadata": {},
     "output_type": "execute_result"
    }
   ],
   "source": [
    "celsius_para_kelvin(0) == 273.15"
   ]
  },
  {
   "cell_type": "code",
   "execution_count": 135,
   "metadata": {
    "collapsed": false
   },
   "outputs": [
    {
     "data": {
      "text/plain": [
       "True"
      ]
     },
     "execution_count": 135,
     "metadata": {},
     "output_type": "execute_result"
    }
   ],
   "source": [
    "celsius_para_kelvin(-273.15) == 0"
   ]
  },
  {
   "cell_type": "code",
   "execution_count": 136,
   "metadata": {
    "collapsed": false
   },
   "outputs": [
    {
     "data": {
      "text/plain": [
       "True"
      ]
     },
     "execution_count": 136,
     "metadata": {},
     "output_type": "execute_result"
    }
   ],
   "source": [
    "celsius_para_kelvin(42) == 315.15"
   ]
  },
  {
   "cell_type": "code",
   "execution_count": 137,
   "metadata": {
    "collapsed": false
   },
   "outputs": [
    {
     "data": {
      "text/plain": [
       "True"
      ]
     },
     "execution_count": 137,
     "metadata": {},
     "output_type": "execute_result"
    }
   ],
   "source": [
    "kelvin_para_fahr(273.15) == 32"
   ]
  },
  {
   "cell_type": "code",
   "execution_count": 138,
   "metadata": {
    "collapsed": false
   },
   "outputs": [
    {
     "data": {
      "text/plain": [
       "True"
      ]
     },
     "execution_count": 138,
     "metadata": {},
     "output_type": "execute_result"
    }
   ],
   "source": [
    "kelvin_para_fahr(373.15) == 212"
   ]
  },
  {
   "cell_type": "markdown",
   "metadata": {},
   "source": [
    "### Tarefa - Compondo funções\n",
    "\n",
    "Crie uma função chamada `celsius_para_fahr` que recebe a temperatura em Celsius e retorna a temperatura em Fahrenheit. Você deve **obrigatoriamente** utilizar as duas funções criadas anteriormente para calcular o resultado."
   ]
  },
  {
   "cell_type": "code",
   "execution_count": 139,
   "metadata": {
    "collapsed": true
   },
   "outputs": [],
   "source": [
    "def celsius_para_fahr(celsius): #função que converte celsius para fahrenheit\n",
    "    kelvin = celsius_para_kelvin(celsius) #função já criada, da conversao de celsius para kelvin, necessária para a conversao de celsius para fahrenheit\n",
    "    fahr = kelvin_para_fahr(kelvin) #função ja criada, da conversao de kelvin para fahrenheit, necessaria para a conversao de celsius para farenheit\n",
    "    return fahr #comando para gerar o resultado\n",
    "    "
   ]
  },
  {
   "cell_type": "markdown",
   "metadata": {},
   "source": [
    "As células abaixo executam a sua função e comparam com os resultados esperados. Use-as para verificar se a sua função está funcionando (todas as células devem imprimir `True`)."
   ]
  },
  {
   "cell_type": "code",
   "execution_count": 140,
   "metadata": {
    "collapsed": false
   },
   "outputs": [
    {
     "data": {
      "text/plain": [
       "True"
      ]
     },
     "execution_count": 140,
     "metadata": {},
     "output_type": "execute_result"
    }
   ],
   "source": [
    "celsius_para_fahr(0) == 32"
   ]
  },
  {
   "cell_type": "code",
   "execution_count": 141,
   "metadata": {
    "collapsed": false
   },
   "outputs": [
    {
     "data": {
      "text/plain": [
       "True"
      ]
     },
     "execution_count": 141,
     "metadata": {},
     "output_type": "execute_result"
    }
   ],
   "source": [
    "celsius_para_fahr(100) == 212"
   ]
  },
  {
   "cell_type": "markdown",
   "metadata": {},
   "source": [
    "### Tarefa - Documentando funções\n",
    "\n",
    "Faça as funções acima novamente (**com o mesmo nome**), dessa vez criando *docstrings* para essas funções. A docstring da função deve ser no formato:\n",
    "\n",
    "    def minha_funcao(coisa1, coisa2):\n",
    "        \"\"\"\n",
    "        Calcula/faz tal e tal coisa utilizando a formula de tal\n",
    "        e assumindo que tal.\n",
    "        \n",
    "        Exemplos:\n",
    "        minha_funcao(10, 20) => 1345\n",
    "        minha_funcao(34, 42) => 145\n",
    "        \"\"\""
   ]
  },
  {
   "cell_type": "code",
   "execution_count": 142,
   "metadata": {
    "collapsed": true
   },
   "outputs": [],
   "source": [
    "def celsius_para_kelvin(celsius): #função anteriormente criada\n",
    "    \"\"\"\n",
    "    converte a temperatura em celsius para kelvin através da equação de conversão, que é uma equação universal.\n",
    "    Kelvin = Celsius + 273.15\n",
    "    Exemplos:\n",
    "    celsius_para_kelvin(10) => 283.15\n",
    "    \"\"\"\n",
    "    kelvin = celsius + 273 #calculo que define a conversao de celsius para kelvin\n",
    "    return celsius #resultado da função"
   ]
  },
  {
   "cell_type": "code",
   "execution_count": 143,
   "metadata": {
    "collapsed": true
   },
   "outputs": [],
   "source": [
    "def kelvin_para_fahr(kelvin): #função anteriormente criada\n",
    "    \"\"\"\n",
    "    converte a temperatura em kelvin para fahrenheit através da equação de conversão, que é uma esqueção universal.\n",
    "    fahr = (kelvin - 273.15)*1.8 + 32\n",
    "    Exemplos:\n",
    "    kelvin_para_fahr(20) => -423.66999999999996\n",
    "    \"\"\"\n",
    "    fahr = (kelvin - 273.15)*1.8 + 32 #calculo que define a conversao de kelvin para fahrenheit\n",
    "    return fahr #resultado da função"
   ]
  },
  {
   "cell_type": "code",
   "execution_count": 144,
   "metadata": {
    "collapsed": true
   },
   "outputs": [],
   "source": [
    "def celsius_para_fahr(celsius): #função definida a partir das conversôes de celsius para kelvin e kelvin para fahrenheit\n",
    "    \"\"\"\n",
    "    converte a temperatura em celsius para fahrenheit através das funções de conversão criadas acima.\n",
    "    kelvin = celsius_para_kelvin(celsius)\n",
    "    fahr = kelvin_para_fahr(kelvin)\n",
    "    Exemplos:\n",
    "    celsius_para_fahr(30) => -405.66999999999996\n",
    "    \"\"\"\n",
    "    kelvin = celsius_para_kelvin(celsius) #conversao de celsius para kelvin\n",
    "    fahr = kelvin_para_fahr(kelvin) #conversao de kelvin para fahrenheit\n",
    "    return fahr #resultado da função"
   ]
  },
  {
   "cell_type": "markdown",
   "metadata": {},
   "source": [
    "As células abaixo imprimem as docstrings de cada uma das funções."
   ]
  },
  {
   "cell_type": "code",
   "execution_count": 145,
   "metadata": {
    "collapsed": false
   },
   "outputs": [
    {
     "name": "stdout",
     "output_type": "stream",
     "text": [
      "Help on function celsius_para_kelvin in module __main__:\n",
      "\n",
      "celsius_para_kelvin(celsius)\n",
      "    converte a temperatura em celsius para kelvin através da equação de conversão, que é uma equação universal.\n",
      "    Kelvin = Celsius + 273.15\n",
      "    Exemplos:\n",
      "    celsius_para_kelvin(10) => 283.15\n",
      "\n"
     ]
    }
   ],
   "source": [
    "help(celsius_para_kelvin)"
   ]
  },
  {
   "cell_type": "code",
   "execution_count": 146,
   "metadata": {
    "collapsed": false
   },
   "outputs": [
    {
     "name": "stdout",
     "output_type": "stream",
     "text": [
      "Help on function kelvin_para_fahr in module __main__:\n",
      "\n",
      "kelvin_para_fahr(kelvin)\n",
      "    converte a temperatura em kelvin para fahrenheit através da equação de conversão, que é uma esqueção universal.\n",
      "    fahr = (kelvin - 273.15)*1.8 + 32\n",
      "    Exemplos:\n",
      "    kelvin_para_fahr(20) => -423.66999999999996\n",
      "\n"
     ]
    }
   ],
   "source": [
    "help(kelvin_para_fahr)"
   ]
  },
  {
   "cell_type": "code",
   "execution_count": 147,
   "metadata": {
    "collapsed": false
   },
   "outputs": [
    {
     "name": "stdout",
     "output_type": "stream",
     "text": [
      "Help on function celsius_para_fahr in module __main__:\n",
      "\n",
      "celsius_para_fahr(celsius)\n",
      "    converte a temperatura em celsius para fahrenheit através das funções de conversão criadas acima.\n",
      "    kelvin = celsius_para_kelvin(celsius)\n",
      "    fahr = kelvin_para_fahr(kelvin)\n",
      "    Exemplos:\n",
      "    celsius_para_fahr(30) => -405.66999999999996\n",
      "\n"
     ]
    }
   ],
   "source": [
    "help(celsius_para_fahr)"
   ]
  },
  {
   "cell_type": "markdown",
   "metadata": {},
   "source": [
    "## Programação defensiva"
   ]
  },
  {
   "cell_type": "markdown",
   "metadata": {},
   "source": [
    "### Tarefa - Checando os inputs\n",
    "\n",
    "Crie novamente a função `celsius_para_kelvin` (com a docstring definida acima). Dessa vez, utilize o comando `assert` para verificar se a temperatura permitida é maior ou igual ao 0 absoluto (0 Kelvin ou -273.15 Celsius). O `assert` deve vir antes do cálculo em si."
   ]
  },
  {
   "cell_type": "code",
   "execution_count": 148,
   "metadata": {
    "collapsed": true
   },
   "outputs": [],
   "source": [
    "def celsius_para_kelvin(celsius): #função que converte a temperatura de celsius para kelvin\n",
    "    assert celsius >= -273.15, \"Impossível porque a temperatura abaixo do 0 absoluto não existe.\"\n",
    "    kelvin = celsius + 273.15 #equação universal de conversao celsius para kelvin\n",
    "    return kelvin #gera o resultado da função"
   ]
  },
  {
   "cell_type": "markdown",
   "metadata": {},
   "source": [
    "As células abaixo testam se as funções estão fazendo a coisa certa (falhando quando menor que zero absoluto e não falhando caso contrário)."
   ]
  },
  {
   "cell_type": "code",
   "execution_count": 149,
   "metadata": {
    "collapsed": false
   },
   "outputs": [
    {
     "ename": "AssertionError",
     "evalue": "Impossível porque a temperatura abaixo do 0 absoluto não existe.",
     "output_type": "error",
     "traceback": [
      "\u001b[1;31m---------------------------------------------------------------------------\u001b[0m",
      "\u001b[1;31mAssertionError\u001b[0m                            Traceback (most recent call last)",
      "\u001b[1;32m<ipython-input-149-f86fc0be9a2b>\u001b[0m in \u001b[0;36m<module>\u001b[1;34m()\u001b[0m\n\u001b[1;32m----> 1\u001b[1;33m \u001b[0mcelsius_para_kelvin\u001b[0m\u001b[1;33m(\u001b[0m\u001b[1;33m-\u001b[0m\u001b[1;36m300\u001b[0m\u001b[1;33m)\u001b[0m  \u001b[1;31m# Deve gerar um AssertionError\u001b[0m\u001b[1;33m\u001b[0m\u001b[0m\n\u001b[0m",
      "\u001b[1;32m<ipython-input-148-ef1ee56de717>\u001b[0m in \u001b[0;36mcelsius_para_kelvin\u001b[1;34m(celsius)\u001b[0m\n\u001b[0;32m      1\u001b[0m \u001b[1;32mdef\u001b[0m \u001b[0mcelsius_para_kelvin\u001b[0m\u001b[1;33m(\u001b[0m\u001b[0mcelsius\u001b[0m\u001b[1;33m)\u001b[0m\u001b[1;33m:\u001b[0m \u001b[1;31m#função que converte a temperatura de celsius para kelvin\u001b[0m\u001b[1;33m\u001b[0m\u001b[0m\n\u001b[1;32m----> 2\u001b[1;33m     \u001b[1;32massert\u001b[0m \u001b[0mcelsius\u001b[0m \u001b[1;33m>=\u001b[0m \u001b[1;33m-\u001b[0m\u001b[1;36m273.15\u001b[0m\u001b[1;33m,\u001b[0m \u001b[1;34m\"Impossível porque a temperatura abaixo do 0 absoluto não existe.\"\u001b[0m\u001b[1;33m\u001b[0m\u001b[0m\n\u001b[0m\u001b[0;32m      3\u001b[0m     \u001b[0mkelvin\u001b[0m \u001b[1;33m=\u001b[0m \u001b[0mcelsius\u001b[0m \u001b[1;33m+\u001b[0m \u001b[1;36m273.15\u001b[0m \u001b[1;31m#equação universal de conversao celsius para kelvin\u001b[0m\u001b[1;33m\u001b[0m\u001b[0m\n\u001b[0;32m      4\u001b[0m     \u001b[1;32mreturn\u001b[0m \u001b[0mkelvin\u001b[0m \u001b[1;31m#gera o resultado da função\u001b[0m\u001b[1;33m\u001b[0m\u001b[0m\n",
      "\u001b[1;31mAssertionError\u001b[0m: Impossível porque a temperatura abaixo do 0 absoluto não existe."
     ]
    }
   ],
   "source": [
    "celsius_para_kelvin(-300)  # Deve gerar um AssertionError"
   ]
  },
  {
   "cell_type": "code",
   "execution_count": 150,
   "metadata": {
    "collapsed": false
   },
   "outputs": [
    {
     "data": {
      "text/plain": [
       "0.0"
      ]
     },
     "execution_count": 150,
     "metadata": {},
     "output_type": "execute_result"
    }
   ],
   "source": [
    "celsius_para_kelvin(-273.15)  # Não deve falhar"
   ]
  },
  {
   "cell_type": "code",
   "execution_count": 151,
   "metadata": {
    "collapsed": false
   },
   "outputs": [
    {
     "ename": "AssertionError",
     "evalue": "Impossível porque a temperatura abaixo do 0 absoluto não existe.",
     "output_type": "error",
     "traceback": [
      "\u001b[1;31m---------------------------------------------------------------------------\u001b[0m",
      "\u001b[1;31mAssertionError\u001b[0m                            Traceback (most recent call last)",
      "\u001b[1;32m<ipython-input-151-e1398a9b49de>\u001b[0m in \u001b[0;36m<module>\u001b[1;34m()\u001b[0m\n\u001b[1;32m----> 1\u001b[1;33m \u001b[0mcelsius_para_kelvin\u001b[0m\u001b[1;33m(\u001b[0m\u001b[1;33m-\u001b[0m\u001b[1;36m273.16\u001b[0m\u001b[1;33m)\u001b[0m  \u001b[1;31m# Deve gerar um AssertionError\u001b[0m\u001b[1;33m\u001b[0m\u001b[0m\n\u001b[0m",
      "\u001b[1;32m<ipython-input-148-ef1ee56de717>\u001b[0m in \u001b[0;36mcelsius_para_kelvin\u001b[1;34m(celsius)\u001b[0m\n\u001b[0;32m      1\u001b[0m \u001b[1;32mdef\u001b[0m \u001b[0mcelsius_para_kelvin\u001b[0m\u001b[1;33m(\u001b[0m\u001b[0mcelsius\u001b[0m\u001b[1;33m)\u001b[0m\u001b[1;33m:\u001b[0m \u001b[1;31m#função que converte a temperatura de celsius para kelvin\u001b[0m\u001b[1;33m\u001b[0m\u001b[0m\n\u001b[1;32m----> 2\u001b[1;33m     \u001b[1;32massert\u001b[0m \u001b[0mcelsius\u001b[0m \u001b[1;33m>=\u001b[0m \u001b[1;33m-\u001b[0m\u001b[1;36m273.15\u001b[0m\u001b[1;33m,\u001b[0m \u001b[1;34m\"Impossível porque a temperatura abaixo do 0 absoluto não existe.\"\u001b[0m\u001b[1;33m\u001b[0m\u001b[0m\n\u001b[0m\u001b[0;32m      3\u001b[0m     \u001b[0mkelvin\u001b[0m \u001b[1;33m=\u001b[0m \u001b[0mcelsius\u001b[0m \u001b[1;33m+\u001b[0m \u001b[1;36m273.15\u001b[0m \u001b[1;31m#equação universal de conversao celsius para kelvin\u001b[0m\u001b[1;33m\u001b[0m\u001b[0m\n\u001b[0;32m      4\u001b[0m     \u001b[1;32mreturn\u001b[0m \u001b[0mkelvin\u001b[0m \u001b[1;31m#gera o resultado da função\u001b[0m\u001b[1;33m\u001b[0m\u001b[0m\n",
      "\u001b[1;31mAssertionError\u001b[0m: Impossível porque a temperatura abaixo do 0 absoluto não existe."
     ]
    }
   ],
   "source": [
    "celsius_para_kelvin(-273.16)  # Deve gerar um AssertionError"
   ]
  },
  {
   "cell_type": "markdown",
   "metadata": {},
   "source": [
    "### Tarefa - Checando outputs\n",
    "\n",
    "Utilize comandos `assert` para verificar se a função `celsius_para_fahr` está retornando o valor correto para pelo menos **5 temperaturas diferentes**.\n",
    "\n",
    "Como exemplo, vou deixar pronto 1 dos testes (sim, esse conta como 1 dos 5):"
   ]
  },
  {
   "cell_type": "code",
   "execution_count": 152,
   "metadata": {
    "collapsed": false
   },
   "outputs": [],
   "source": [
    "#comando que diz se a função esta dando o resultado correto ou não\n",
    "assert celsius_para_fahr(0) == 32\n",
    "assert celsius_para_fahr(12) == 53.6\n",
    "assert celsius_para_fahr(43) == 109.4\n",
    "assert celsius_para_fahr(27) == 80.6\n",
    "assert celsius_para_fahr(98) == 208.4"
   ]
  },
  {
   "cell_type": "markdown",
   "metadata": {},
   "source": [
    "## Integrando tudo"
   ]
  },
  {
   "cell_type": "markdown",
   "metadata": {},
   "source": [
    "### Tarefa - Contas com matrizes\n",
    "\n",
    "Crie as funções abaixo:\n",
    "\n",
    "* `msoma`: recebe duas matrizes como entrada e retorna a soma dessas duas matrizes. Lembre-se que só é possível somar duas matrizes com o mesmo número de linhas e colunas.\n",
    "* `mmult`: recebe duas matrizes como entrada e retorna a multiplicação dessas matrizes. Lembre-se que só é possível multiplicar a matriz A por B se o número de colunas de A for igual ao número de linhas de B.\n",
    "* `vmult`: recebe uma matriz e um vetor como entrada e retorna a multiplicação da matriz pelo vetor.\n",
    "\n",
    "Todas as funções devem conter *docstrings* e `assert`s para conferir as entradas.\n",
    "\n",
    "**Dica**: Copie o código das aulas passadas."
   ]
  },
  {
   "cell_type": "code",
   "execution_count": 153,
   "metadata": {
    "collapsed": false
   },
   "outputs": [],
   "source": [
    "def msoma(A, B): #função que define a soma de matrizes\n",
    "    C = [] #lista vazia para os valores da matriz resultado C\n",
    "    assert len(A)==len(B), \"Número de linhas incompativeis\" #condição para a soma de matrizes dar certo, além da mensagem de erro\n",
    "    for i in range (len(A)): #loop para o calculo da soma dos elementos\n",
    "        linha=[]\n",
    "        assert len(A[i])==len(B[i]), \"Número de colunas imcompativeis\" #condição para a função dar correta, alem da mensagem de erro\n",
    "        for j in range(len(A[i])): #loop para o calculo da soma de cada elemento das matrizes\n",
    "            linha.append((A[i][j]) + (B[i][j]))\n",
    "        C.append(linha)\n",
    "    return C #comando para resultado da função"
   ]
  },
  {
   "cell_type": "code",
   "execution_count": 154,
   "metadata": {
    "collapsed": false
   },
   "outputs": [],
   "source": [
    "def mmult(A,B): #função que multiplica matrizes\n",
    "    C = [] #lista vazia para os valores da matriz resultado C\n",
    "    for i in range(len(A)): #loop para multiplicação de matrizes\n",
    "        linha = [] #lista vazia para as linhas da matriz resultante\n",
    "        assert len(A[i])==len(B), \"Número de linhas em B incompativeis ao de colunas de A\" #condição para a função existir\n",
    "        for j in range(len(A[i])): #loop para a multiplicaçao de matrizes\n",
    "            temp = 0 #temp é uma variavel para calcular os elementos da matriz C\n",
    "            for k in range(len(A[i])): #loop para calculo dos elementos de C\n",
    "                temp = temp + (A[i][k]*B[k][j]) #calculos dos elementos que existem em C\n",
    "            linha.append(temp) #adição das linhas a matriz C\n",
    "        C.append(linha) #comando que da o resultado da função\n",
    "    return C"
   ]
  },
  {
   "cell_type": "code",
   "execution_count": 155,
   "metadata": {
    "collapsed": false
   },
   "outputs": [],
   "source": [
    "def vmult (A, vet): #função que multiplica matriz por vetor\n",
    "    C = [] #lista vazia para os valores da matriz resultado C\n",
    "    for i in range(len(A)): #loop para multiplicaçao da matriz pelo vetor\n",
    "        var = 0 #var é uma variavel para calcular os elementos do vetor\n",
    "        assert len(A[i])==len(vet), \"Número de linhas de vet é incompatível com o número de colunas de A\" #condiçao para função existir\n",
    "        for j in range(len(A[i])): #loop para fazer a multiplicação\n",
    "            var = var + (A[i][j]*vet[j]) #calculo dos elementos\n",
    "        C.append(var) #adição dos valores do vetor a sua lista\n",
    "    return C #comando que da o resultado da função"
   ]
  },
  {
   "cell_type": "markdown",
   "metadata": {},
   "source": [
    "Utilize as células abaixo para criar comandos `assert` que testem se suas funções produzem o resultado esperado. Utilize a função `np.allclose` do [numpy](http://numpy.org/) para verificar duas matrizes ou vetores possuem valores próximos (praticamente iguais). Exemplo:\n",
    "\n",
    "    A = [[1, 2], [3, 4]]\n",
    "    B = [[1, 2], [3, 4]]\n",
    "    np.allclose(A, B) -> True\n",
    "    \n",
    "    C = [[1.1, 2], [3, 4]]\n",
    "    np.allclose(A, C) -> False\n",
    "\n",
    "**Cada função deve ter pelo menos 4 testes**.\n",
    "\n",
    "Teste também se as suas funções falham quando a entrada é inadequada (dica: coloque esses casos cada um em uma célula).\n",
    "\n",
    "Como exemplo, deixo os primeiros testes prontos para vocês."
   ]
  },
  {
   "cell_type": "code",
   "execution_count": 156,
   "metadata": {
    "collapsed": false
   },
   "outputs": [],
   "source": [
    "# Testa se msoma produz o resultado esperado\n",
    "A = [[1, 2, 3], [4, 5, 6]]\n",
    "B = [[7, 8, 9], [10, 11, 12]]\n",
    "C = [[8, 10, 12], [14, 16, 18]]\n",
    "assert np.allclose(msoma(A, B), C)\n",
    "# Coloque abaixo os seus asserts\n"
   ]
  },
  {
   "cell_type": "code",
   "execution_count": 157,
   "metadata": {
    "collapsed": false
   },
   "outputs": [
    {
     "ename": "AssertionError",
     "evalue": "Número de colunas imcompativeis",
     "output_type": "error",
     "traceback": [
      "\u001b[1;31m---------------------------------------------------------------------------\u001b[0m",
      "\u001b[1;31mAssertionError\u001b[0m                            Traceback (most recent call last)",
      "\u001b[1;32m<ipython-input-157-21428eb441ea>\u001b[0m in \u001b[0;36m<module>\u001b[1;34m()\u001b[0m\n\u001b[1;32m----> 1\u001b[1;33m \u001b[0mmsoma\u001b[0m\u001b[1;33m(\u001b[0m\u001b[1;33m[\u001b[0m\u001b[1;33m[\u001b[0m\u001b[1;36m1\u001b[0m\u001b[1;33m,\u001b[0m \u001b[1;36m2\u001b[0m\u001b[1;33m,\u001b[0m \u001b[1;36m3\u001b[0m\u001b[1;33m]\u001b[0m\u001b[1;33m,\u001b[0m \u001b[1;33m[\u001b[0m\u001b[1;36m4\u001b[0m\u001b[1;33m,\u001b[0m \u001b[1;36m5\u001b[0m\u001b[1;33m,\u001b[0m \u001b[1;36m6\u001b[0m\u001b[1;33m]\u001b[0m\u001b[1;33m]\u001b[0m\u001b[1;33m,\u001b[0m \u001b[1;33m[\u001b[0m\u001b[1;33m[\u001b[0m\u001b[1;36m1\u001b[0m\u001b[1;33m,\u001b[0m \u001b[1;36m2\u001b[0m\u001b[1;33m]\u001b[0m\u001b[1;33m,\u001b[0m \u001b[1;33m[\u001b[0m\u001b[1;36m1\u001b[0m\u001b[1;33m,\u001b[0m \u001b[1;36m2\u001b[0m\u001b[1;33m]\u001b[0m\u001b[1;33m]\u001b[0m\u001b[1;33m)\u001b[0m  \u001b[1;31m# Deve produzir um AssertionError\u001b[0m\u001b[1;33m\u001b[0m\u001b[0m\n\u001b[0m",
      "\u001b[1;32m<ipython-input-153-3682b4b57366>\u001b[0m in \u001b[0;36mmsoma\u001b[1;34m(A, B)\u001b[0m\n\u001b[0;32m      4\u001b[0m     \u001b[1;32mfor\u001b[0m \u001b[0mi\u001b[0m \u001b[1;32min\u001b[0m \u001b[0mrange\u001b[0m \u001b[1;33m(\u001b[0m\u001b[0mlen\u001b[0m\u001b[1;33m(\u001b[0m\u001b[0mA\u001b[0m\u001b[1;33m)\u001b[0m\u001b[1;33m)\u001b[0m\u001b[1;33m:\u001b[0m \u001b[1;31m#loop para o calculo da soma dos elementos\u001b[0m\u001b[1;33m\u001b[0m\u001b[0m\n\u001b[0;32m      5\u001b[0m         \u001b[0mlinha\u001b[0m\u001b[1;33m=\u001b[0m\u001b[1;33m[\u001b[0m\u001b[1;33m]\u001b[0m\u001b[1;33m\u001b[0m\u001b[0m\n\u001b[1;32m----> 6\u001b[1;33m         \u001b[1;32massert\u001b[0m \u001b[0mlen\u001b[0m\u001b[1;33m(\u001b[0m\u001b[0mA\u001b[0m\u001b[1;33m[\u001b[0m\u001b[0mi\u001b[0m\u001b[1;33m]\u001b[0m\u001b[1;33m)\u001b[0m\u001b[1;33m==\u001b[0m\u001b[0mlen\u001b[0m\u001b[1;33m(\u001b[0m\u001b[0mB\u001b[0m\u001b[1;33m[\u001b[0m\u001b[0mi\u001b[0m\u001b[1;33m]\u001b[0m\u001b[1;33m)\u001b[0m\u001b[1;33m,\u001b[0m \u001b[1;34m\"Número de colunas imcompativeis\"\u001b[0m \u001b[1;31m#condição para a função dar correta, alem da mensagem de erro\u001b[0m\u001b[1;33m\u001b[0m\u001b[0m\n\u001b[0m\u001b[0;32m      7\u001b[0m         \u001b[1;32mfor\u001b[0m \u001b[0mj\u001b[0m \u001b[1;32min\u001b[0m \u001b[0mrange\u001b[0m\u001b[1;33m(\u001b[0m\u001b[0mlen\u001b[0m\u001b[1;33m(\u001b[0m\u001b[0mA\u001b[0m\u001b[1;33m[\u001b[0m\u001b[0mi\u001b[0m\u001b[1;33m]\u001b[0m\u001b[1;33m)\u001b[0m\u001b[1;33m)\u001b[0m\u001b[1;33m:\u001b[0m \u001b[1;31m#loop para o calculo da soma de cada elemento das matrizes\u001b[0m\u001b[1;33m\u001b[0m\u001b[0m\n\u001b[0;32m      8\u001b[0m             \u001b[0mlinha\u001b[0m\u001b[1;33m.\u001b[0m\u001b[0mappend\u001b[0m\u001b[1;33m(\u001b[0m\u001b[1;33m(\u001b[0m\u001b[0mA\u001b[0m\u001b[1;33m[\u001b[0m\u001b[0mi\u001b[0m\u001b[1;33m]\u001b[0m\u001b[1;33m[\u001b[0m\u001b[0mj\u001b[0m\u001b[1;33m]\u001b[0m\u001b[1;33m)\u001b[0m \u001b[1;33m+\u001b[0m \u001b[1;33m(\u001b[0m\u001b[0mB\u001b[0m\u001b[1;33m[\u001b[0m\u001b[0mi\u001b[0m\u001b[1;33m]\u001b[0m\u001b[1;33m[\u001b[0m\u001b[0mj\u001b[0m\u001b[1;33m]\u001b[0m\u001b[1;33m)\u001b[0m\u001b[1;33m)\u001b[0m\u001b[1;33m\u001b[0m\u001b[0m\n",
      "\u001b[1;31mAssertionError\u001b[0m: Número de colunas imcompativeis"
     ]
    }
   ],
   "source": [
    "msoma([[1, 2, 3], [4, 5, 6]], [[1, 2], [1, 2]])  # Deve produzir um AssertionError"
   ]
  },
  {
   "cell_type": "code",
   "execution_count": 158,
   "metadata": {
    "collapsed": false,
    "scrolled": true
   },
   "outputs": [
    {
     "ename": "AssertionError",
     "evalue": "Número de linhas incompativeis",
     "output_type": "error",
     "traceback": [
      "\u001b[1;31m---------------------------------------------------------------------------\u001b[0m",
      "\u001b[1;31mAssertionError\u001b[0m                            Traceback (most recent call last)",
      "\u001b[1;32m<ipython-input-158-8600990d1189>\u001b[0m in \u001b[0;36m<module>\u001b[1;34m()\u001b[0m\n\u001b[1;32m----> 1\u001b[1;33m \u001b[0mmsoma\u001b[0m\u001b[1;33m(\u001b[0m\u001b[1;33m[\u001b[0m\u001b[1;33m[\u001b[0m\u001b[1;36m1\u001b[0m\u001b[1;33m,\u001b[0m \u001b[1;36m2\u001b[0m\u001b[1;33m,\u001b[0m \u001b[1;36m3\u001b[0m\u001b[1;33m]\u001b[0m\u001b[1;33m,\u001b[0m \u001b[1;33m[\u001b[0m\u001b[1;36m4\u001b[0m\u001b[1;33m,\u001b[0m \u001b[1;36m5\u001b[0m\u001b[1;33m,\u001b[0m \u001b[1;36m6\u001b[0m\u001b[1;33m]\u001b[0m\u001b[1;33m]\u001b[0m\u001b[1;33m,\u001b[0m \u001b[1;33m[\u001b[0m\u001b[1;33m[\u001b[0m\u001b[1;36m1\u001b[0m\u001b[1;33m,\u001b[0m \u001b[1;36m2\u001b[0m\u001b[1;33m,\u001b[0m \u001b[1;36m3\u001b[0m\u001b[1;33m]\u001b[0m\u001b[1;33m]\u001b[0m\u001b[1;33m)\u001b[0m  \u001b[1;31m# Deve produzir um AssertionError\u001b[0m\u001b[1;33m\u001b[0m\u001b[0m\n\u001b[0m",
      "\u001b[1;32m<ipython-input-153-3682b4b57366>\u001b[0m in \u001b[0;36mmsoma\u001b[1;34m(A, B)\u001b[0m\n\u001b[0;32m      1\u001b[0m \u001b[1;32mdef\u001b[0m \u001b[0mmsoma\u001b[0m\u001b[1;33m(\u001b[0m\u001b[0mA\u001b[0m\u001b[1;33m,\u001b[0m \u001b[0mB\u001b[0m\u001b[1;33m)\u001b[0m\u001b[1;33m:\u001b[0m \u001b[1;31m#função que define a soma de matrizes\u001b[0m\u001b[1;33m\u001b[0m\u001b[0m\n\u001b[0;32m      2\u001b[0m     \u001b[0mC\u001b[0m \u001b[1;33m=\u001b[0m \u001b[1;33m[\u001b[0m\u001b[1;33m]\u001b[0m \u001b[1;31m#lista vazia para os valores da matriz resultado C\u001b[0m\u001b[1;33m\u001b[0m\u001b[0m\n\u001b[1;32m----> 3\u001b[1;33m     \u001b[1;32massert\u001b[0m \u001b[0mlen\u001b[0m\u001b[1;33m(\u001b[0m\u001b[0mA\u001b[0m\u001b[1;33m)\u001b[0m\u001b[1;33m==\u001b[0m\u001b[0mlen\u001b[0m\u001b[1;33m(\u001b[0m\u001b[0mB\u001b[0m\u001b[1;33m)\u001b[0m\u001b[1;33m,\u001b[0m \u001b[1;34m\"Número de linhas incompativeis\"\u001b[0m \u001b[1;31m#condição para a soma de matrizes dar certo, além da mensagem de erro\u001b[0m\u001b[1;33m\u001b[0m\u001b[0m\n\u001b[0m\u001b[0;32m      4\u001b[0m     \u001b[1;32mfor\u001b[0m \u001b[0mi\u001b[0m \u001b[1;32min\u001b[0m \u001b[0mrange\u001b[0m \u001b[1;33m(\u001b[0m\u001b[0mlen\u001b[0m\u001b[1;33m(\u001b[0m\u001b[0mA\u001b[0m\u001b[1;33m)\u001b[0m\u001b[1;33m)\u001b[0m\u001b[1;33m:\u001b[0m \u001b[1;31m#loop para o calculo da soma dos elementos\u001b[0m\u001b[1;33m\u001b[0m\u001b[0m\n\u001b[0;32m      5\u001b[0m         \u001b[0mlinha\u001b[0m\u001b[1;33m=\u001b[0m\u001b[1;33m[\u001b[0m\u001b[1;33m]\u001b[0m\u001b[1;33m\u001b[0m\u001b[0m\n",
      "\u001b[1;31mAssertionError\u001b[0m: Número de linhas incompativeis"
     ]
    }
   ],
   "source": [
    "msoma([[1, 2, 3], [4, 5, 6]], [[1, 2, 3]])  # Deve produzir um AssertionError"
   ]
  },
  {
   "cell_type": "code",
   "execution_count": 159,
   "metadata": {
    "collapsed": false
   },
   "outputs": [
    {
     "data": {
      "text/plain": [
       "[[49, 96, 66], [79, 88, 47]]"
      ]
     },
     "execution_count": 159,
     "metadata": {},
     "output_type": "execute_result"
    }
   ],
   "source": [
    "#msoma3: o resultado deve ser obtido\n",
    "msoma([[45,31,52],[66,7,12]],[[4,65,14],[13,81,35]])"
   ]
  },
  {
   "cell_type": "code",
   "execution_count": 160,
   "metadata": {
    "collapsed": false
   },
   "outputs": [
    {
     "data": {
      "text/plain": [
       "[[17, 38, 30, 91, 58], [36, 53, 71, 99, 50]]"
      ]
     },
     "execution_count": 160,
     "metadata": {},
     "output_type": "execute_result"
    }
   ],
   "source": [
    "#msoma4: o resultado deve ser obtido\n",
    "msoma([[16,33,27,84,50],[32,45,67,93,48]],[[1,5,3,7,8],[4,8,4,6,2]])"
   ]
  },
  {
   "cell_type": "code",
   "execution_count": 161,
   "metadata": {
    "collapsed": false
   },
   "outputs": [
    {
     "data": {
      "text/plain": [
       "[[2367, 171], [1623, 114], [1248, 84]]"
      ]
     },
     "execution_count": 161,
     "metadata": {},
     "output_type": "execute_result"
    }
   ],
   "source": [
    "#mmult1: o resultado deve ser obtido\n",
    "mmult([[36,45], [21,31], [12,24]], [[2,1,4], [51,3, 65]])\n"
   ]
  },
  {
   "cell_type": "code",
   "execution_count": 162,
   "metadata": {
    "collapsed": false
   },
   "outputs": [
    {
     "data": {
      "text/plain": [
       "[[1298, 1064], [2518, 2095]]"
      ]
     },
     "execution_count": 162,
     "metadata": {},
     "output_type": "execute_result"
    }
   ],
   "source": [
    "#mmult2: o resultado deve ser obtido\n",
    "mmult([[34,12], [65,27]], [[35,26], [9,15]])"
   ]
  },
  {
   "cell_type": "code",
   "execution_count": 163,
   "metadata": {
    "collapsed": false
   },
   "outputs": [
    {
     "ename": "AssertionError",
     "evalue": "Número de linhas em B incompativeis ao de colunas de A",
     "output_type": "error",
     "traceback": [
      "\u001b[1;31m---------------------------------------------------------------------------\u001b[0m",
      "\u001b[1;31mAssertionError\u001b[0m                            Traceback (most recent call last)",
      "\u001b[1;32m<ipython-input-163-0492d2cfeba2>\u001b[0m in \u001b[0;36m<module>\u001b[1;34m()\u001b[0m\n\u001b[0;32m      1\u001b[0m \u001b[1;31m#mmult3 deve gerar um AssertionError falando que o número de linhas em B sao inompativeis ao numero de colunas de A\u001b[0m\u001b[1;33m\u001b[0m\u001b[1;33m\u001b[0m\u001b[0m\n\u001b[1;32m----> 2\u001b[1;33m \u001b[0mmmult\u001b[0m\u001b[1;33m(\u001b[0m\u001b[1;33m[\u001b[0m\u001b[1;33m[\u001b[0m\u001b[1;36m43\u001b[0m\u001b[1;33m,\u001b[0m\u001b[1;36m27\u001b[0m\u001b[1;33m,\u001b[0m\u001b[1;36m12\u001b[0m\u001b[1;33m]\u001b[0m\u001b[1;33m,\u001b[0m\u001b[1;33m[\u001b[0m\u001b[1;36m42\u001b[0m\u001b[1;33m,\u001b[0m\u001b[1;36m27\u001b[0m\u001b[1;33m,\u001b[0m\u001b[1;36m13\u001b[0m\u001b[1;33m]\u001b[0m\u001b[1;33m]\u001b[0m\u001b[1;33m,\u001b[0m \u001b[1;33m[\u001b[0m\u001b[1;33m[\u001b[0m\u001b[1;36m13\u001b[0m\u001b[1;33m,\u001b[0m\u001b[1;36m45\u001b[0m\u001b[1;33m]\u001b[0m\u001b[1;33m,\u001b[0m\u001b[1;33m[\u001b[0m\u001b[1;36m15\u001b[0m\u001b[1;33m,\u001b[0m\u001b[1;36m97\u001b[0m\u001b[1;33m]\u001b[0m\u001b[1;33m]\u001b[0m\u001b[1;33m)\u001b[0m\u001b[1;33m\u001b[0m\u001b[0m\n\u001b[0m",
      "\u001b[1;32m<ipython-input-154-557d87f829e4>\u001b[0m in \u001b[0;36mmmult\u001b[1;34m(A, B)\u001b[0m\n\u001b[0;32m      3\u001b[0m     \u001b[1;32mfor\u001b[0m \u001b[0mi\u001b[0m \u001b[1;32min\u001b[0m \u001b[0mrange\u001b[0m\u001b[1;33m(\u001b[0m\u001b[0mlen\u001b[0m\u001b[1;33m(\u001b[0m\u001b[0mA\u001b[0m\u001b[1;33m)\u001b[0m\u001b[1;33m)\u001b[0m\u001b[1;33m:\u001b[0m \u001b[1;31m#loop para multiplicação de matrizes\u001b[0m\u001b[1;33m\u001b[0m\u001b[0m\n\u001b[0;32m      4\u001b[0m         \u001b[0mlinha\u001b[0m \u001b[1;33m=\u001b[0m \u001b[1;33m[\u001b[0m\u001b[1;33m]\u001b[0m \u001b[1;31m#lista vazia para as linhas da matriz resultante\u001b[0m\u001b[1;33m\u001b[0m\u001b[0m\n\u001b[1;32m----> 5\u001b[1;33m         \u001b[1;32massert\u001b[0m \u001b[0mlen\u001b[0m\u001b[1;33m(\u001b[0m\u001b[0mA\u001b[0m\u001b[1;33m[\u001b[0m\u001b[0mi\u001b[0m\u001b[1;33m]\u001b[0m\u001b[1;33m)\u001b[0m\u001b[1;33m==\u001b[0m\u001b[0mlen\u001b[0m\u001b[1;33m(\u001b[0m\u001b[0mB\u001b[0m\u001b[1;33m)\u001b[0m\u001b[1;33m,\u001b[0m \u001b[1;34m\"Número de linhas em B incompativeis ao de colunas de A\"\u001b[0m \u001b[1;31m#condição para a função existir\u001b[0m\u001b[1;33m\u001b[0m\u001b[0m\n\u001b[0m\u001b[0;32m      6\u001b[0m         \u001b[1;32mfor\u001b[0m \u001b[0mj\u001b[0m \u001b[1;32min\u001b[0m \u001b[0mrange\u001b[0m\u001b[1;33m(\u001b[0m\u001b[0mlen\u001b[0m\u001b[1;33m(\u001b[0m\u001b[0mA\u001b[0m\u001b[1;33m[\u001b[0m\u001b[0mi\u001b[0m\u001b[1;33m]\u001b[0m\u001b[1;33m)\u001b[0m\u001b[1;33m)\u001b[0m\u001b[1;33m:\u001b[0m \u001b[1;31m#loop para a multiplicaçao de matrizes\u001b[0m\u001b[1;33m\u001b[0m\u001b[0m\n\u001b[0;32m      7\u001b[0m             \u001b[0mtemp\u001b[0m \u001b[1;33m=\u001b[0m \u001b[1;36m0\u001b[0m \u001b[1;31m#temp é uma variavel para calcular os elementos da matriz C\u001b[0m\u001b[1;33m\u001b[0m\u001b[0m\n",
      "\u001b[1;31mAssertionError\u001b[0m: Número de linhas em B incompativeis ao de colunas de A"
     ]
    }
   ],
   "source": [
    "#mmult3 deve gerar um AssertionError falando que o número de linhas em B sao inompativeis ao numero de colunas de A\n",
    "mmult([[43,27,12],[42,27,13]], [[13,45],[15,97]])"
   ]
  },
  {
   "cell_type": "code",
   "execution_count": 164,
   "metadata": {
    "collapsed": false
   },
   "outputs": [
    {
     "data": {
      "text/plain": [
       "[[881, 1149, 1393], [276, 375, 501]]"
      ]
     },
     "execution_count": 164,
     "metadata": {},
     "output_type": "execute_result"
    }
   ],
   "source": [
    "#mmult4: o resultado deve ser obtido\n",
    "mmult([[43,67,91],[42,15,27]],[[1,2,4],[3,5,6],[7,8,9]])"
   ]
  },
  {
   "cell_type": "code",
   "execution_count": 165,
   "metadata": {
    "collapsed": false
   },
   "outputs": [
    {
     "data": {
      "text/plain": [
       "[4185, 6217]"
      ]
     },
     "execution_count": 165,
     "metadata": {},
     "output_type": "execute_result"
    }
   ],
   "source": [
    "#vmult1: o resultado deve ser obtido\n",
    "vmult([[34,52,13],[21,54,64]],[21,56,43])"
   ]
  },
  {
   "cell_type": "code",
   "execution_count": 166,
   "metadata": {
    "collapsed": false
   },
   "outputs": [
    {
     "data": {
      "text/plain": [
       "[134, 141]"
      ]
     },
     "execution_count": 166,
     "metadata": {},
     "output_type": "execute_result"
    }
   ],
   "source": [
    "#vmult2: o resultado deve ser obtido\n",
    "vmult([[3,5,2,7,4,8],[1,3,5,8,4,9]],[4,2,3,6,8,4])"
   ]
  },
  {
   "cell_type": "code",
   "execution_count": 167,
   "metadata": {
    "collapsed": false
   },
   "outputs": [
    {
     "data": {
      "text/plain": [
       "[2645, 5003, 6869]"
      ]
     },
     "execution_count": 167,
     "metadata": {},
     "output_type": "execute_result"
    }
   ],
   "source": [
    "#vmult3: o resultado deve ser obtido\n",
    "vmult([[34,14,13],[23,54,24],[81,34,56]],[43,65,21])"
   ]
  },
  {
   "cell_type": "code",
   "execution_count": 168,
   "metadata": {
    "collapsed": false
   },
   "outputs": [
    {
     "ename": "AssertionError",
     "evalue": "Número de linhas de vet é incompatível com o número de colunas de A",
     "output_type": "error",
     "traceback": [
      "\u001b[1;31m---------------------------------------------------------------------------\u001b[0m",
      "\u001b[1;31mAssertionError\u001b[0m                            Traceback (most recent call last)",
      "\u001b[1;32m<ipython-input-168-97fcfcc7c455>\u001b[0m in \u001b[0;36m<module>\u001b[1;34m()\u001b[0m\n\u001b[0;32m      1\u001b[0m \u001b[1;31m#vmult4: o resultado deve gerar um AssentionError e dizer que o numero de linhas de ver é incompativel com o numero de colunas de A\u001b[0m\u001b[1;33m\u001b[0m\u001b[1;33m\u001b[0m\u001b[0m\n\u001b[1;32m----> 2\u001b[1;33m \u001b[0mvmult\u001b[0m\u001b[1;33m(\u001b[0m\u001b[1;33m[\u001b[0m\u001b[1;33m[\u001b[0m\u001b[1;36m43\u001b[0m\u001b[1;33m,\u001b[0m\u001b[1;36m213\u001b[0m\u001b[1;33m,\u001b[0m\u001b[1;36m23\u001b[0m\u001b[1;33m]\u001b[0m\u001b[1;33m,\u001b[0m\u001b[1;33m[\u001b[0m\u001b[1;36m123\u001b[0m\u001b[1;33m,\u001b[0m\u001b[1;36m54\u001b[0m\u001b[1;33m,\u001b[0m\u001b[1;36m21\u001b[0m\u001b[1;33m]\u001b[0m\u001b[1;33m]\u001b[0m\u001b[1;33m,\u001b[0m\u001b[1;33m[\u001b[0m\u001b[1;36m23\u001b[0m\u001b[1;33m,\u001b[0m\u001b[1;36m14\u001b[0m\u001b[1;33m]\u001b[0m\u001b[1;33m)\u001b[0m\u001b[1;33m\u001b[0m\u001b[0m\n\u001b[0m",
      "\u001b[1;32m<ipython-input-155-c8488ce0169c>\u001b[0m in \u001b[0;36mvmult\u001b[1;34m(A, vet)\u001b[0m\n\u001b[0;32m      3\u001b[0m     \u001b[1;32mfor\u001b[0m \u001b[0mi\u001b[0m \u001b[1;32min\u001b[0m \u001b[0mrange\u001b[0m\u001b[1;33m(\u001b[0m\u001b[0mlen\u001b[0m\u001b[1;33m(\u001b[0m\u001b[0mA\u001b[0m\u001b[1;33m)\u001b[0m\u001b[1;33m)\u001b[0m\u001b[1;33m:\u001b[0m \u001b[1;31m#loop para multiplicaçao da matriz pelo vetor\u001b[0m\u001b[1;33m\u001b[0m\u001b[0m\n\u001b[0;32m      4\u001b[0m         \u001b[0mvar\u001b[0m \u001b[1;33m=\u001b[0m \u001b[1;36m0\u001b[0m \u001b[1;31m#var é uma variavel para calcular os elementos do vetor\u001b[0m\u001b[1;33m\u001b[0m\u001b[0m\n\u001b[1;32m----> 5\u001b[1;33m         \u001b[1;32massert\u001b[0m \u001b[0mlen\u001b[0m\u001b[1;33m(\u001b[0m\u001b[0mA\u001b[0m\u001b[1;33m[\u001b[0m\u001b[0mi\u001b[0m\u001b[1;33m]\u001b[0m\u001b[1;33m)\u001b[0m\u001b[1;33m==\u001b[0m\u001b[0mlen\u001b[0m\u001b[1;33m(\u001b[0m\u001b[0mvet\u001b[0m\u001b[1;33m)\u001b[0m\u001b[1;33m,\u001b[0m \u001b[1;34m\"Número de linhas de vet é incompatível com o número de colunas de A\"\u001b[0m \u001b[1;31m#condiçao para função existir\u001b[0m\u001b[1;33m\u001b[0m\u001b[0m\n\u001b[0m\u001b[0;32m      6\u001b[0m         \u001b[1;32mfor\u001b[0m \u001b[0mj\u001b[0m \u001b[1;32min\u001b[0m \u001b[0mrange\u001b[0m\u001b[1;33m(\u001b[0m\u001b[0mlen\u001b[0m\u001b[1;33m(\u001b[0m\u001b[0mA\u001b[0m\u001b[1;33m[\u001b[0m\u001b[0mi\u001b[0m\u001b[1;33m]\u001b[0m\u001b[1;33m)\u001b[0m\u001b[1;33m)\u001b[0m\u001b[1;33m:\u001b[0m \u001b[1;31m#loop para fazer a multiplicação\u001b[0m\u001b[1;33m\u001b[0m\u001b[0m\n\u001b[0;32m      7\u001b[0m             \u001b[0mvar\u001b[0m \u001b[1;33m=\u001b[0m \u001b[0mvar\u001b[0m \u001b[1;33m+\u001b[0m \u001b[1;33m(\u001b[0m\u001b[0mA\u001b[0m\u001b[1;33m[\u001b[0m\u001b[0mi\u001b[0m\u001b[1;33m]\u001b[0m\u001b[1;33m[\u001b[0m\u001b[0mj\u001b[0m\u001b[1;33m]\u001b[0m\u001b[1;33m*\u001b[0m\u001b[0mvet\u001b[0m\u001b[1;33m[\u001b[0m\u001b[0mj\u001b[0m\u001b[1;33m]\u001b[0m\u001b[1;33m)\u001b[0m \u001b[1;31m#calculo dos elementos\u001b[0m\u001b[1;33m\u001b[0m\u001b[0m\n",
      "\u001b[1;31mAssertionError\u001b[0m: Número de linhas de vet é incompatível com o número de colunas de A"
     ]
    }
   ],
   "source": [
    "#vmult4: o resultado deve gerar um AssentionError e dizer que o numero de linhas de ver é incompativel com o numero de colunas de A\n",
    "vmult([[43,213,23],[123,54,21]],[23,14])"
   ]
  },
  {
   "cell_type": "markdown",
   "metadata": {},
   "source": [
    "## Tarefa Bônus\n",
    "\n",
    "Crie a função:\n",
    "\n",
    "* `mtrans`: recebe uma matriz como entrada e retorna a transposta de dessa matriz. A transposta é a matriz com suas linhas transformadas em colunas.\n",
    "\n",
    "A função deve ter uma docstring, `assert`s para verificar a entrada e testes para verificar se o resultado é o esperado."
   ]
  },
  {
   "cell_type": "code",
   "execution_count": null,
   "metadata": {
    "collapsed": true
   },
   "outputs": [],
   "source": []
  },
  {
   "cell_type": "code",
   "execution_count": null,
   "metadata": {
    "collapsed": true
   },
   "outputs": [],
   "source": []
  },
  {
   "cell_type": "code",
   "execution_count": null,
   "metadata": {
    "collapsed": true
   },
   "outputs": [],
   "source": []
  },
  {
   "cell_type": "code",
   "execution_count": null,
   "metadata": {
    "collapsed": true
   },
   "outputs": [],
   "source": []
  }
 ],
 "metadata": {
  "kernelspec": {
   "display_name": "Python 3",
   "language": "python",
   "name": "python3"
  },
  "language_info": {
   "codemirror_mode": {
    "name": "ipython",
    "version": 3
   },
   "file_extension": ".py",
   "mimetype": "text/x-python",
   "name": "python",
   "nbconvert_exporter": "python",
   "pygments_lexer": "ipython3",
   "version": "3.4.3"
  }
 },
 "nbformat": 4,
 "nbformat_minor": 0
}
